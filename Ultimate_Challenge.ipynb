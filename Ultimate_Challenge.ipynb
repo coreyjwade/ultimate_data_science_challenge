{
 "cells": [
  {
   "cell_type": "markdown",
   "metadata": {},
   "source": [
    "# Ultimate_Challenge"
   ]
  },
  {
   "cell_type": "markdown",
   "metadata": {},
   "source": [
    "Ultimate Technologies Inc. is a hypothetical American worldwide online transportation network company headquartered in San Francisco, California. Founded by Jarvis Karolick in 2010, it has completely disrupted the taxi and logistics industry, and is one of the most prestigious companies to work for."
   ]
  },
  {
   "cell_type": "markdown",
   "metadata": {},
   "source": [
    "## Exploratory Data Analysis"
   ]
  },
  {
   "cell_type": "markdown",
   "metadata": {},
   "source": [
    "The attached logins.json file contains (simulated) timestamps of user logins in a particular geographic location. We will aggregate these login counts based on 15­minute time intervals, and visualize and describe the resulting time series of login counts in ways that best characterize the underlying patterns of the demand. We will report/illustrate important features of the demand, such as daily cycles. If there are data quality issues, we will report these as well."
   ]
  },
  {
   "cell_type": "code",
   "execution_count": 1,
   "metadata": {},
   "outputs": [],
   "source": [
    "# Import standard libraries\n",
    "import pandas as pd\n",
    "import numpy as np\n",
    "import matplotlib.pyplot as plt\n",
    "import seaborn as sns\n",
    "import datetime"
   ]
  },
  {
   "cell_type": "code",
   "execution_count": 2,
   "metadata": {},
   "outputs": [],
   "source": [
    "# Convert json file into dataframe\n",
    "df = pd.read_json('logins.json')"
   ]
  },
  {
   "cell_type": "code",
   "execution_count": 3,
   "metadata": {},
   "outputs": [
    {
     "data": {
      "text/html": [
       "<div>\n",
       "<style scoped>\n",
       "    .dataframe tbody tr th:only-of-type {\n",
       "        vertical-align: middle;\n",
       "    }\n",
       "\n",
       "    .dataframe tbody tr th {\n",
       "        vertical-align: top;\n",
       "    }\n",
       "\n",
       "    .dataframe thead th {\n",
       "        text-align: right;\n",
       "    }\n",
       "</style>\n",
       "<table border=\"1\" class=\"dataframe\">\n",
       "  <thead>\n",
       "    <tr style=\"text-align: right;\">\n",
       "      <th></th>\n",
       "      <th>login_time</th>\n",
       "    </tr>\n",
       "  </thead>\n",
       "  <tbody>\n",
       "    <tr>\n",
       "      <th>0</th>\n",
       "      <td>1970-01-01 20:13:18</td>\n",
       "    </tr>\n",
       "    <tr>\n",
       "      <th>1</th>\n",
       "      <td>1970-01-01 20:16:10</td>\n",
       "    </tr>\n",
       "    <tr>\n",
       "      <th>2</th>\n",
       "      <td>1970-01-01 20:16:37</td>\n",
       "    </tr>\n",
       "    <tr>\n",
       "      <th>3</th>\n",
       "      <td>1970-01-01 20:16:36</td>\n",
       "    </tr>\n",
       "    <tr>\n",
       "      <th>4</th>\n",
       "      <td>1970-01-01 20:26:21</td>\n",
       "    </tr>\n",
       "  </tbody>\n",
       "</table>\n",
       "</div>"
      ],
      "text/plain": [
       "           login_time\n",
       "0 1970-01-01 20:13:18\n",
       "1 1970-01-01 20:16:10\n",
       "2 1970-01-01 20:16:37\n",
       "3 1970-01-01 20:16:36\n",
       "4 1970-01-01 20:26:21"
      ]
     },
     "execution_count": 3,
     "metadata": {},
     "output_type": "execute_result"
    }
   ],
   "source": [
    "# Show first five rows\n",
    "df.head()"
   ]
  },
  {
   "cell_type": "code",
   "execution_count": 4,
   "metadata": {},
   "outputs": [
    {
     "name": "stdout",
     "output_type": "stream",
     "text": [
      "<class 'pandas.core.frame.DataFrame'>\n",
      "RangeIndex: 93142 entries, 0 to 93141\n",
      "Data columns (total 1 columns):\n",
      "login_time    93142 non-null datetime64[ns]\n",
      "dtypes: datetime64[ns](1)\n",
      "memory usage: 727.8 KB\n"
     ]
    }
   ],
   "source": [
    "# Display info including column type\n",
    "df.info()"
   ]
  },
  {
   "cell_type": "code",
   "execution_count": 5,
   "metadata": {},
   "outputs": [],
   "source": [
    "# Convert login time to standard units\n",
    "df['month'] = df['login_time'].dt.month\n",
    "df['year'] = df['login_time'].dt.year\n",
    "df['hour'] = df['login_time'].dt.hour\n",
    "df['minute'] = df['login_time'].dt.minute\n",
    "df['second'] = df['login_time'].dt.second\n",
    "df['dayofweek'] = df['login_time'].dt.dayofweek"
   ]
  },
  {
   "cell_type": "code",
   "execution_count": 6,
   "metadata": {},
   "outputs": [
    {
     "data": {
      "text/html": [
       "<div>\n",
       "<style scoped>\n",
       "    .dataframe tbody tr th:only-of-type {\n",
       "        vertical-align: middle;\n",
       "    }\n",
       "\n",
       "    .dataframe tbody tr th {\n",
       "        vertical-align: top;\n",
       "    }\n",
       "\n",
       "    .dataframe thead th {\n",
       "        text-align: right;\n",
       "    }\n",
       "</style>\n",
       "<table border=\"1\" class=\"dataframe\">\n",
       "  <thead>\n",
       "    <tr style=\"text-align: right;\">\n",
       "      <th></th>\n",
       "      <th>month</th>\n",
       "      <th>year</th>\n",
       "      <th>hour</th>\n",
       "      <th>minute</th>\n",
       "      <th>second</th>\n",
       "      <th>dayofweek</th>\n",
       "    </tr>\n",
       "  </thead>\n",
       "  <tbody>\n",
       "    <tr>\n",
       "      <th>count</th>\n",
       "      <td>93142.000000</td>\n",
       "      <td>93142.0</td>\n",
       "      <td>93142.000000</td>\n",
       "      <td>93142.000000</td>\n",
       "      <td>93142.000000</td>\n",
       "      <td>93142.000000</td>\n",
       "    </tr>\n",
       "    <tr>\n",
       "      <th>mean</th>\n",
       "      <td>2.424062</td>\n",
       "      <td>1970.0</td>\n",
       "      <td>11.635363</td>\n",
       "      <td>29.801711</td>\n",
       "      <td>29.619033</td>\n",
       "      <td>3.570301</td>\n",
       "    </tr>\n",
       "    <tr>\n",
       "      <th>std</th>\n",
       "      <td>0.995154</td>\n",
       "      <td>0.0</td>\n",
       "      <td>7.816792</td>\n",
       "      <td>17.245034</td>\n",
       "      <td>17.319278</td>\n",
       "      <td>1.946072</td>\n",
       "    </tr>\n",
       "    <tr>\n",
       "      <th>min</th>\n",
       "      <td>1.000000</td>\n",
       "      <td>1970.0</td>\n",
       "      <td>0.000000</td>\n",
       "      <td>0.000000</td>\n",
       "      <td>0.000000</td>\n",
       "      <td>0.000000</td>\n",
       "    </tr>\n",
       "    <tr>\n",
       "      <th>25%</th>\n",
       "      <td>2.000000</td>\n",
       "      <td>1970.0</td>\n",
       "      <td>4.000000</td>\n",
       "      <td>15.000000</td>\n",
       "      <td>15.000000</td>\n",
       "      <td>2.000000</td>\n",
       "    </tr>\n",
       "    <tr>\n",
       "      <th>50%</th>\n",
       "      <td>3.000000</td>\n",
       "      <td>1970.0</td>\n",
       "      <td>12.000000</td>\n",
       "      <td>30.000000</td>\n",
       "      <td>30.000000</td>\n",
       "      <td>4.000000</td>\n",
       "    </tr>\n",
       "    <tr>\n",
       "      <th>75%</th>\n",
       "      <td>3.000000</td>\n",
       "      <td>1970.0</td>\n",
       "      <td>19.000000</td>\n",
       "      <td>45.000000</td>\n",
       "      <td>45.000000</td>\n",
       "      <td>5.000000</td>\n",
       "    </tr>\n",
       "    <tr>\n",
       "      <th>max</th>\n",
       "      <td>4.000000</td>\n",
       "      <td>1970.0</td>\n",
       "      <td>23.000000</td>\n",
       "      <td>59.000000</td>\n",
       "      <td>59.000000</td>\n",
       "      <td>6.000000</td>\n",
       "    </tr>\n",
       "  </tbody>\n",
       "</table>\n",
       "</div>"
      ],
      "text/plain": [
       "              month     year          hour        minute        second  \\\n",
       "count  93142.000000  93142.0  93142.000000  93142.000000  93142.000000   \n",
       "mean       2.424062   1970.0     11.635363     29.801711     29.619033   \n",
       "std        0.995154      0.0      7.816792     17.245034     17.319278   \n",
       "min        1.000000   1970.0      0.000000      0.000000      0.000000   \n",
       "25%        2.000000   1970.0      4.000000     15.000000     15.000000   \n",
       "50%        3.000000   1970.0     12.000000     30.000000     30.000000   \n",
       "75%        3.000000   1970.0     19.000000     45.000000     45.000000   \n",
       "max        4.000000   1970.0     23.000000     59.000000     59.000000   \n",
       "\n",
       "          dayofweek  \n",
       "count  93142.000000  \n",
       "mean       3.570301  \n",
       "std        1.946072  \n",
       "min        0.000000  \n",
       "25%        2.000000  \n",
       "50%        4.000000  \n",
       "75%        5.000000  \n",
       "max        6.000000  "
      ]
     },
     "execution_count": 6,
     "metadata": {},
     "output_type": "execute_result"
    }
   ],
   "source": [
    "# Display standard stats of new columns\n",
    "df.describe()"
   ]
  },
  {
   "cell_type": "code",
   "execution_count": 7,
   "metadata": {},
   "outputs": [],
   "source": [
    "# Create column of 15_min_intervals\n",
    "df['15_min_intervals'] = 4 * df['hour'] + (df['minute']/15).astype(int)"
   ]
  },
  {
   "cell_type": "code",
   "execution_count": 8,
   "metadata": {},
   "outputs": [
    {
     "data": {
      "image/png": "[encoded data removed]",
      "text/plain": [
       "<Figure size 432x288 with 1 Axes>"
      ]
     },
     "metadata": {},
     "output_type": "display_data"
    }
   ],
   "source": [
    "# Set Seaborne style\n",
    "sns.set_style(\"darkgrid\")\n",
    "\n",
    "# Create histogram of 15_min_intervals\n",
    "plt.hist(df['hour'], bins=24, ec='white')\n",
    "plt.xlabel('Hour Intervals')\n",
    "plt.ylabel('Number of Logins')\n",
    "plt.title('Number of Logins per Hour', fontsize=15)\n",
    "plt.show()"
   ]
  },
  {
   "cell_type": "markdown",
   "metadata": {},
   "source": [
    "The logins peak at night, between 10pm and 3am. There is also a clear low period between 6 and 9am. Perhaps the data is presented as East Coast Time, but is really West Coast time. Then the peak hours would be between 7pm and midnight, and the low hours between 3am and 6am. This makes more sense."
   ]
  },
  {
   "cell_type": "code",
   "execution_count": 9,
   "metadata": {},
   "outputs": [
    {
     "data": {
      "image/png": "[encoded data removed]",
      "text/plain": [
       "<Figure size 432x288 with 1 Axes>"
      ]
     },
     "metadata": {},
     "output_type": "display_data"
    }
   ],
   "source": [
    "# Create histogram of 1 week intervals\n",
    "plt.hist(df['dayofweek'], bins=7, ec='white')\n",
    "plt.xlabel('Day of Week: M-S')\n",
    "plt.ylabel('Number of Logins')\n",
    "plt.title('Number of Logins per Day', fontsize=15)\n",
    "plt.show()"
   ]
  },
  {
   "cell_type": "markdown",
   "metadata": {},
   "source": [
    "The number of logins per day continiously increase from Monday until Saturday. Peak days are Saturday, Sunday and Friday."
   ]
  },
  {
   "cell_type": "code",
   "execution_count": 10,
   "metadata": {},
   "outputs": [
    {
     "data": {
      "image/png": "[encoded data removed]",
      "text/plain": [
       "<Figure size 432x288 with 1 Axes>"
      ]
     },
     "metadata": {},
     "output_type": "display_data"
    }
   ],
   "source": [
    "# Create histogram of 1 week intervals\n",
    "plt.hist(df['month'], bins=4, ec='white')\n",
    "plt.xlabel('Month')\n",
    "plt.ylabel('Number of Logins')\n",
    "plt.title('Number of Logins per Month', fontsize=15)\n",
    "plt.show()"
   ]
  },
  {
   "cell_type": "markdown",
   "metadata": {},
   "source": [
    "The number of logins increased per month. The last month is lower because the whole month is not represented."
   ]
  },
  {
   "cell_type": "markdown",
   "metadata": {},
   "source": [
    "## Experiment and Metrics Design"
   ]
  },
  {
   "cell_type": "markdown",
   "metadata": {},
   "source": [
    "The neighboring cities of Gotham and Metropolis have complementary circadian rhythms: on weekdays, Ultimate Gotham is most active at night, and Ultimate Metropolis is most active during the day. On weekends, there is reasonable activity in both cities.\n",
    "However, a toll bridge, with a two­way toll, between the two cities causes driver partners to tend to be exclusive to each city. The Ultimate managers of city operations for the two cities have proposed an experiment to encourage driver partners to be available in both cities, by reimbursing all toll costs."
   ]
  },
  {
   "cell_type": "markdown",
   "metadata": {},
   "source": [
    "1) What should be chosen as the key measure of success of this experiment in encouraging driver partners to serve both cities, and why?\n",
    "\n",
    "Mean Monthly Profits Per Driver is an optimal metric to determine if reimbursing drivers on toll costs is effective. This metric is essential because it will reveal if the company gains profits via the toll reimbursements. \n",
    "\n",
    "The profit metric should be coupled with a \"2-city drive\" metric, summing the number of rides that started in either Gotham or Metropolis, and ended in the other city."
   ]
  },
  {
   "cell_type": "markdown",
   "metadata": {},
   "source": [
    "2) A practical experiment comparing the effectiveness of the proposed change in relation to the key measure of success can use the following guidelines:\n",
    "\n",
    "A. implementation of the experiment\n",
    "\n",
    " - DATA ANALYSIS - Profits should be carefully analyzed over 30-day periods in order to make effective predictions and ensure that confounding variables like weather, holiday seasons, etc. are taken into account.\n",
    "\n",
    " - TECHNOLOGY - Ensure that all vehicles have a way of recording bridge crosses per ride that can be stored in an accessible table.\n",
    "\n",
    " - CONSISTENCY - Ensure that no other signfinicant changes will be made during the 30-day time period.\n",
    "\n",
    " - SPLIT - Randomly select 5% of active drivers into a test group, and 5% of active drivers into a control group. Each split should be represenative of the active driver population. If either group is unrepresentative, a new split should be generated.\n",
    " \n",
    " - CONFIDENCE INTERVAL - Since the change is significant, a confidence interval of 96% is recommended.\n",
    " \n",
    " - COMMUNICATION - The drivers will be contacted 1 week in advance allowing time to reach all drivers and answer any questions.\n",
    "\n",
    "B. statistical test(s) to verify the significance of the observation\n",
    "\n",
    " - t-TEST - Monthly Profits Per Driver is a mean calculation. The data are randomly sampled, there are more than 10X active drivers per sample, and the sample size will be greater than 30 due to the large size of the company. Thus a t-test is warranted.\n",
    "\n",
    " - HYPOTHESES - The Null Hypothesis is that the mean profit is the same for both groups. The Altnernative Hypothesis is that the mean profit is greater for the test group.\n",
    " \n",
    "- p-VALUE - After the experiment completes, the Mean Monthly Profits Per Driver for each group can be calculated. The test group will receive a p-value based on its t-score. If the p-value is less than 0.02, the Null Hypothesis is incorrect.\n",
    "\n",
    "\n",
    "C. Interpreting the results and providing recommendations to the city operations team along with any caveats.\n",
    "\n",
    " - MORE PROFITS - If the Null Hypothesis is incorrect, we are 96% confident that the increase in profits in the test group was not due to chance. We thus recommend implenting toll bridge reiumbursement company-wide. There is a 4% probability that our results are due to chance and we have made a Type II Error.\n",
    "\n",
    "- NO CHANGE - If the Null Hypothesis is correct, no changes will be recommended at this time. Further analysis, however, may be warranted if the results are compelling. For instance, a partial toll reimbursement could show a greater increase in profits. Drivers may also be interviewed to gain further insight. "
   ]
  },
  {
   "cell_type": "markdown",
   "metadata": {},
   "source": [
    "## Predictive Modeling"
   ]
  },
  {
   "cell_type": "markdown",
   "metadata": {},
   "source": [
    "Ultimate is interested in predicting rider retention. A sample dataset of a cohort of users who signed up for an Ultimate account in January 2014 is provided. The data was pulled several months later; a user is considered retained if they were “active” (i.e. took a trip) in the preceding 30 days. \n",
    "\n",
    "Let us determine what factors are the best predictors for retention, and offer suggestions to operationalize those insights to help Ultimate. The data is in the attached file ultimate_data_challenge.json."
   ]
  },
  {
   "cell_type": "markdown",
   "metadata": {},
   "source": [
    "### Examine Data"
   ]
  },
  {
   "cell_type": "code",
   "execution_count": 11,
   "metadata": {},
   "outputs": [],
   "source": [
    "# Import libraries\n",
    "import pandas as pd\n",
    "import json\n",
    "\n",
    "# Open file\n",
    "with open('ultimate_data_challenge.json') as f:\n",
    "   data = json.load(f)\n",
    "\n",
    "# Create dataframe\n",
    "dfu = pd.DataFrame(data)"
   ]
  },
  {
   "cell_type": "code",
   "execution_count": 12,
   "metadata": {},
   "outputs": [
    {
     "data": {
      "text/html": [
       "<div>\n",
       "<style scoped>\n",
       "    .dataframe tbody tr th:only-of-type {\n",
       "        vertical-align: middle;\n",
       "    }\n",
       "\n",
       "    .dataframe tbody tr th {\n",
       "        vertical-align: top;\n",
       "    }\n",
       "\n",
       "    .dataframe thead th {\n",
       "        text-align: right;\n",
       "    }\n",
       "</style>\n",
       "<table border=\"1\" class=\"dataframe\">\n",
       "  <thead>\n",
       "    <tr style=\"text-align: right;\">\n",
       "      <th></th>\n",
       "      <th>avg_dist</th>\n",
       "      <th>avg_rating_by_driver</th>\n",
       "      <th>avg_rating_of_driver</th>\n",
       "      <th>avg_surge</th>\n",
       "      <th>city</th>\n",
       "      <th>last_trip_date</th>\n",
       "      <th>phone</th>\n",
       "      <th>signup_date</th>\n",
       "      <th>surge_pct</th>\n",
       "      <th>trips_in_first_30_days</th>\n",
       "      <th>ultimate_black_user</th>\n",
       "      <th>weekday_pct</th>\n",
       "    </tr>\n",
       "  </thead>\n",
       "  <tbody>\n",
       "    <tr>\n",
       "      <th>0</th>\n",
       "      <td>3.67</td>\n",
       "      <td>5.0</td>\n",
       "      <td>4.7</td>\n",
       "      <td>1.10</td>\n",
       "      <td>King's Landing</td>\n",
       "      <td>2014-06-17</td>\n",
       "      <td>iPhone</td>\n",
       "      <td>2014-01-25</td>\n",
       "      <td>15.4</td>\n",
       "      <td>4</td>\n",
       "      <td>True</td>\n",
       "      <td>46.2</td>\n",
       "    </tr>\n",
       "    <tr>\n",
       "      <th>1</th>\n",
       "      <td>8.26</td>\n",
       "      <td>5.0</td>\n",
       "      <td>5.0</td>\n",
       "      <td>1.00</td>\n",
       "      <td>Astapor</td>\n",
       "      <td>2014-05-05</td>\n",
       "      <td>Android</td>\n",
       "      <td>2014-01-29</td>\n",
       "      <td>0.0</td>\n",
       "      <td>0</td>\n",
       "      <td>False</td>\n",
       "      <td>50.0</td>\n",
       "    </tr>\n",
       "    <tr>\n",
       "      <th>2</th>\n",
       "      <td>0.77</td>\n",
       "      <td>5.0</td>\n",
       "      <td>4.3</td>\n",
       "      <td>1.00</td>\n",
       "      <td>Astapor</td>\n",
       "      <td>2014-01-07</td>\n",
       "      <td>iPhone</td>\n",
       "      <td>2014-01-06</td>\n",
       "      <td>0.0</td>\n",
       "      <td>3</td>\n",
       "      <td>False</td>\n",
       "      <td>100.0</td>\n",
       "    </tr>\n",
       "    <tr>\n",
       "      <th>3</th>\n",
       "      <td>2.36</td>\n",
       "      <td>4.9</td>\n",
       "      <td>4.6</td>\n",
       "      <td>1.14</td>\n",
       "      <td>King's Landing</td>\n",
       "      <td>2014-06-29</td>\n",
       "      <td>iPhone</td>\n",
       "      <td>2014-01-10</td>\n",
       "      <td>20.0</td>\n",
       "      <td>9</td>\n",
       "      <td>True</td>\n",
       "      <td>80.0</td>\n",
       "    </tr>\n",
       "    <tr>\n",
       "      <th>4</th>\n",
       "      <td>3.13</td>\n",
       "      <td>4.9</td>\n",
       "      <td>4.4</td>\n",
       "      <td>1.19</td>\n",
       "      <td>Winterfell</td>\n",
       "      <td>2014-03-15</td>\n",
       "      <td>Android</td>\n",
       "      <td>2014-01-27</td>\n",
       "      <td>11.8</td>\n",
       "      <td>14</td>\n",
       "      <td>False</td>\n",
       "      <td>82.4</td>\n",
       "    </tr>\n",
       "  </tbody>\n",
       "</table>\n",
       "</div>"
      ],
      "text/plain": [
       "   avg_dist  avg_rating_by_driver  avg_rating_of_driver  avg_surge  \\\n",
       "0      3.67                   5.0                   4.7       1.10   \n",
       "1      8.26                   5.0                   5.0       1.00   \n",
       "2      0.77                   5.0                   4.3       1.00   \n",
       "3      2.36                   4.9                   4.6       1.14   \n",
       "4      3.13                   4.9                   4.4       1.19   \n",
       "\n",
       "             city last_trip_date    phone signup_date  surge_pct  \\\n",
       "0  King's Landing     2014-06-17   iPhone  2014-01-25       15.4   \n",
       "1         Astapor     2014-05-05  Android  2014-01-29        0.0   \n",
       "2         Astapor     2014-01-07   iPhone  2014-01-06        0.0   \n",
       "3  King's Landing     2014-06-29   iPhone  2014-01-10       20.0   \n",
       "4      Winterfell     2014-03-15  Android  2014-01-27       11.8   \n",
       "\n",
       "   trips_in_first_30_days  ultimate_black_user  weekday_pct  \n",
       "0                       4                 True         46.2  \n",
       "1                       0                False         50.0  \n",
       "2                       3                False        100.0  \n",
       "3                       9                 True         80.0  \n",
       "4                      14                False         82.4  "
      ]
     },
     "execution_count": 12,
     "metadata": {},
     "output_type": "execute_result"
    }
   ],
   "source": [
    "# Show first five entries\n",
    "dfu.head()"
   ]
  },
  {
   "cell_type": "code",
   "execution_count": 13,
   "metadata": {},
   "outputs": [
    {
     "name": "stdout",
     "output_type": "stream",
     "text": [
      "<class 'pandas.core.frame.DataFrame'>\n",
      "RangeIndex: 50000 entries, 0 to 49999\n",
      "Data columns (total 12 columns):\n",
      "avg_dist                  50000 non-null float64\n",
      "avg_rating_by_driver      49799 non-null float64\n",
      "avg_rating_of_driver      41878 non-null float64\n",
      "avg_surge                 50000 non-null float64\n",
      "city                      50000 non-null object\n",
      "last_trip_date            50000 non-null object\n",
      "phone                     49604 non-null object\n",
      "signup_date               50000 non-null object\n",
      "surge_pct                 50000 non-null float64\n",
      "trips_in_first_30_days    50000 non-null int64\n",
      "ultimate_black_user       50000 non-null bool\n",
      "weekday_pct               50000 non-null float64\n",
      "dtypes: bool(1), float64(6), int64(1), object(4)\n",
      "memory usage: 4.2+ MB\n"
     ]
    }
   ],
   "source": [
    "# Show info\n",
    "dfu.info()"
   ]
  },
  {
   "cell_type": "code",
   "execution_count": 14,
   "metadata": {},
   "outputs": [],
   "source": [
    "# Convert date strings into date-time objects\n",
    "dfu['last_trip_date'] = pd.to_datetime(dfu['last_trip_date'], errors='ignore')\n",
    "dfu['signup_date'] = pd.to_datetime(dfu['signup_date'], errors='ignore')"
   ]
  },
  {
   "cell_type": "code",
   "execution_count": 15,
   "metadata": {},
   "outputs": [
    {
     "name": "stdout",
     "output_type": "stream",
     "text": [
      "<class 'pandas.core.frame.DataFrame'>\n",
      "RangeIndex: 50000 entries, 0 to 49999\n",
      "Data columns (total 12 columns):\n",
      "avg_dist                  50000 non-null float64\n",
      "avg_rating_by_driver      49799 non-null float64\n",
      "avg_rating_of_driver      41878 non-null float64\n",
      "avg_surge                 50000 non-null float64\n",
      "city                      50000 non-null object\n",
      "last_trip_date            50000 non-null datetime64[ns]\n",
      "phone                     49604 non-null object\n",
      "signup_date               50000 non-null datetime64[ns]\n",
      "surge_pct                 50000 non-null float64\n",
      "trips_in_first_30_days    50000 non-null int64\n",
      "ultimate_black_user       50000 non-null bool\n",
      "weekday_pct               50000 non-null float64\n",
      "dtypes: bool(1), datetime64[ns](2), float64(6), int64(1), object(2)\n",
      "memory usage: 4.2+ MB\n"
     ]
    }
   ],
   "source": [
    "# Verify conversions\n",
    "dfu.info()"
   ]
  },
  {
   "cell_type": "markdown",
   "metadata": {},
   "source": [
    "Ave_rating_by_driver, avg_rating_of_driver and phone are the columns with null values. The mean can be used for the first two."
   ]
  },
  {
   "cell_type": "code",
   "execution_count": 16,
   "metadata": {},
   "outputs": [],
   "source": [
    "dfu['avg_rating_by_driver'].fillna((dfu['avg_rating_by_driver'].mean()), inplace=True)\n",
    "dfu['avg_rating_of_driver'].fillna((dfu['avg_rating_of_driver'].mean()), inplace=True)"
   ]
  },
  {
   "cell_type": "code",
   "execution_count": 17,
   "metadata": {},
   "outputs": [
    {
     "data": {
      "text/plain": [
       "iPhone     0.697162\n",
       "Android    0.302838\n",
       "Name: phone, dtype: float64"
      ]
     },
     "execution_count": 17,
     "metadata": {},
     "output_type": "execute_result"
    }
   ],
   "source": [
    "dfu['phone'].value_counts(normalize=True)"
   ]
  },
  {
   "cell_type": "code",
   "execution_count": 18,
   "metadata": {},
   "outputs": [
    {
     "data": {
      "text/html": [
       "<div>\n",
       "<style scoped>\n",
       "    .dataframe tbody tr th:only-of-type {\n",
       "        vertical-align: middle;\n",
       "    }\n",
       "\n",
       "    .dataframe tbody tr th {\n",
       "        vertical-align: top;\n",
       "    }\n",
       "\n",
       "    .dataframe thead th {\n",
       "        text-align: right;\n",
       "    }\n",
       "</style>\n",
       "<table border=\"1\" class=\"dataframe\">\n",
       "  <thead>\n",
       "    <tr style=\"text-align: right;\">\n",
       "      <th></th>\n",
       "      <th>avg_dist</th>\n",
       "      <th>avg_rating_by_driver</th>\n",
       "      <th>avg_rating_of_driver</th>\n",
       "      <th>avg_surge</th>\n",
       "      <th>surge_pct</th>\n",
       "      <th>trips_in_first_30_days</th>\n",
       "      <th>weekday_pct</th>\n",
       "    </tr>\n",
       "  </thead>\n",
       "  <tbody>\n",
       "    <tr>\n",
       "      <th>count</th>\n",
       "      <td>50000.000000</td>\n",
       "      <td>50000.000000</td>\n",
       "      <td>50000.000000</td>\n",
       "      <td>50000.000000</td>\n",
       "      <td>50000.000000</td>\n",
       "      <td>50000.000000</td>\n",
       "      <td>50000.000000</td>\n",
       "    </tr>\n",
       "    <tr>\n",
       "      <th>mean</th>\n",
       "      <td>5.796827</td>\n",
       "      <td>4.778158</td>\n",
       "      <td>4.601559</td>\n",
       "      <td>1.074764</td>\n",
       "      <td>8.849536</td>\n",
       "      <td>2.278200</td>\n",
       "      <td>60.926084</td>\n",
       "    </tr>\n",
       "    <tr>\n",
       "      <th>std</th>\n",
       "      <td>5.707357</td>\n",
       "      <td>0.445753</td>\n",
       "      <td>0.564977</td>\n",
       "      <td>0.222336</td>\n",
       "      <td>19.958811</td>\n",
       "      <td>3.792684</td>\n",
       "      <td>37.081503</td>\n",
       "    </tr>\n",
       "    <tr>\n",
       "      <th>min</th>\n",
       "      <td>0.000000</td>\n",
       "      <td>1.000000</td>\n",
       "      <td>1.000000</td>\n",
       "      <td>1.000000</td>\n",
       "      <td>0.000000</td>\n",
       "      <td>0.000000</td>\n",
       "      <td>0.000000</td>\n",
       "    </tr>\n",
       "    <tr>\n",
       "      <th>25%</th>\n",
       "      <td>2.420000</td>\n",
       "      <td>4.700000</td>\n",
       "      <td>4.500000</td>\n",
       "      <td>1.000000</td>\n",
       "      <td>0.000000</td>\n",
       "      <td>0.000000</td>\n",
       "      <td>33.300000</td>\n",
       "    </tr>\n",
       "    <tr>\n",
       "      <th>50%</th>\n",
       "      <td>3.880000</td>\n",
       "      <td>5.000000</td>\n",
       "      <td>4.700000</td>\n",
       "      <td>1.000000</td>\n",
       "      <td>0.000000</td>\n",
       "      <td>1.000000</td>\n",
       "      <td>66.700000</td>\n",
       "    </tr>\n",
       "    <tr>\n",
       "      <th>75%</th>\n",
       "      <td>6.940000</td>\n",
       "      <td>5.000000</td>\n",
       "      <td>5.000000</td>\n",
       "      <td>1.050000</td>\n",
       "      <td>8.600000</td>\n",
       "      <td>3.000000</td>\n",
       "      <td>100.000000</td>\n",
       "    </tr>\n",
       "    <tr>\n",
       "      <th>max</th>\n",
       "      <td>160.960000</td>\n",
       "      <td>5.000000</td>\n",
       "      <td>5.000000</td>\n",
       "      <td>8.000000</td>\n",
       "      <td>100.000000</td>\n",
       "      <td>125.000000</td>\n",
       "      <td>100.000000</td>\n",
       "    </tr>\n",
       "  </tbody>\n",
       "</table>\n",
       "</div>"
      ],
      "text/plain": [
       "           avg_dist  avg_rating_by_driver  avg_rating_of_driver     avg_surge  \\\n",
       "count  50000.000000          50000.000000          50000.000000  50000.000000   \n",
       "mean       5.796827              4.778158              4.601559      1.074764   \n",
       "std        5.707357              0.445753              0.564977      0.222336   \n",
       "min        0.000000              1.000000              1.000000      1.000000   \n",
       "25%        2.420000              4.700000              4.500000      1.000000   \n",
       "50%        3.880000              5.000000              4.700000      1.000000   \n",
       "75%        6.940000              5.000000              5.000000      1.050000   \n",
       "max      160.960000              5.000000              5.000000      8.000000   \n",
       "\n",
       "          surge_pct  trips_in_first_30_days   weekday_pct  \n",
       "count  50000.000000            50000.000000  50000.000000  \n",
       "mean       8.849536                2.278200     60.926084  \n",
       "std       19.958811                3.792684     37.081503  \n",
       "min        0.000000                0.000000      0.000000  \n",
       "25%        0.000000                0.000000     33.300000  \n",
       "50%        0.000000                1.000000     66.700000  \n",
       "75%        8.600000                3.000000    100.000000  \n",
       "max      100.000000              125.000000    100.000000  "
      ]
     },
     "execution_count": 18,
     "metadata": {},
     "output_type": "execute_result"
    }
   ],
   "source": [
    "dfu.describe()"
   ]
  },
  {
   "cell_type": "code",
   "execution_count": 19,
   "metadata": {},
   "outputs": [
    {
     "data": {
      "text/html": [
       "<div>\n",
       "<style scoped>\n",
       "    .dataframe tbody tr th:only-of-type {\n",
       "        vertical-align: middle;\n",
       "    }\n",
       "\n",
       "    .dataframe tbody tr th {\n",
       "        vertical-align: top;\n",
       "    }\n",
       "\n",
       "    .dataframe thead th {\n",
       "        text-align: right;\n",
       "    }\n",
       "</style>\n",
       "<table border=\"1\" class=\"dataframe\">\n",
       "  <thead>\n",
       "    <tr style=\"text-align: right;\">\n",
       "      <th></th>\n",
       "      <th>avg_dist</th>\n",
       "      <th>avg_rating_by_driver</th>\n",
       "      <th>avg_rating_of_driver</th>\n",
       "      <th>avg_surge</th>\n",
       "      <th>city</th>\n",
       "      <th>last_trip_date</th>\n",
       "      <th>phone</th>\n",
       "      <th>signup_date</th>\n",
       "      <th>surge_pct</th>\n",
       "      <th>trips_in_first_30_days</th>\n",
       "      <th>ultimate_black_user</th>\n",
       "      <th>weekday_pct</th>\n",
       "    </tr>\n",
       "  </thead>\n",
       "  <tbody>\n",
       "    <tr>\n",
       "      <th>134</th>\n",
       "      <td>2.88</td>\n",
       "      <td>5.0</td>\n",
       "      <td>5.0</td>\n",
       "      <td>1.00</td>\n",
       "      <td>King's Landing</td>\n",
       "      <td>2014-06-11</td>\n",
       "      <td>None</td>\n",
       "      <td>2014-01-10</td>\n",
       "      <td>0.0</td>\n",
       "      <td>0</td>\n",
       "      <td>False</td>\n",
       "      <td>100.0</td>\n",
       "    </tr>\n",
       "    <tr>\n",
       "      <th>176</th>\n",
       "      <td>20.32</td>\n",
       "      <td>5.0</td>\n",
       "      <td>5.0</td>\n",
       "      <td>1.00</td>\n",
       "      <td>Astapor</td>\n",
       "      <td>2014-03-18</td>\n",
       "      <td>None</td>\n",
       "      <td>2014-01-28</td>\n",
       "      <td>0.0</td>\n",
       "      <td>0</td>\n",
       "      <td>False</td>\n",
       "      <td>100.0</td>\n",
       "    </tr>\n",
       "    <tr>\n",
       "      <th>320</th>\n",
       "      <td>31.01</td>\n",
       "      <td>5.0</td>\n",
       "      <td>5.0</td>\n",
       "      <td>1.00</td>\n",
       "      <td>Astapor</td>\n",
       "      <td>2014-01-09</td>\n",
       "      <td>None</td>\n",
       "      <td>2014-01-08</td>\n",
       "      <td>0.0</td>\n",
       "      <td>1</td>\n",
       "      <td>False</td>\n",
       "      <td>100.0</td>\n",
       "    </tr>\n",
       "    <tr>\n",
       "      <th>349</th>\n",
       "      <td>6.03</td>\n",
       "      <td>5.0</td>\n",
       "      <td>3.3</td>\n",
       "      <td>1.00</td>\n",
       "      <td>Winterfell</td>\n",
       "      <td>2014-06-22</td>\n",
       "      <td>None</td>\n",
       "      <td>2014-01-06</td>\n",
       "      <td>0.0</td>\n",
       "      <td>1</td>\n",
       "      <td>True</td>\n",
       "      <td>33.3</td>\n",
       "    </tr>\n",
       "    <tr>\n",
       "      <th>389</th>\n",
       "      <td>3.08</td>\n",
       "      <td>4.8</td>\n",
       "      <td>4.9</td>\n",
       "      <td>1.02</td>\n",
       "      <td>King's Landing</td>\n",
       "      <td>2014-07-01</td>\n",
       "      <td>None</td>\n",
       "      <td>2014-01-26</td>\n",
       "      <td>3.0</td>\n",
       "      <td>5</td>\n",
       "      <td>False</td>\n",
       "      <td>66.7</td>\n",
       "    </tr>\n",
       "  </tbody>\n",
       "</table>\n",
       "</div>"
      ],
      "text/plain": [
       "     avg_dist  avg_rating_by_driver  avg_rating_of_driver  avg_surge  \\\n",
       "134      2.88                   5.0                   5.0       1.00   \n",
       "176     20.32                   5.0                   5.0       1.00   \n",
       "320     31.01                   5.0                   5.0       1.00   \n",
       "349      6.03                   5.0                   3.3       1.00   \n",
       "389      3.08                   4.8                   4.9       1.02   \n",
       "\n",
       "               city last_trip_date phone signup_date  surge_pct  \\\n",
       "134  King's Landing     2014-06-11  None  2014-01-10        0.0   \n",
       "176         Astapor     2014-03-18  None  2014-01-28        0.0   \n",
       "320         Astapor     2014-01-09  None  2014-01-08        0.0   \n",
       "349      Winterfell     2014-06-22  None  2014-01-06        0.0   \n",
       "389  King's Landing     2014-07-01  None  2014-01-26        3.0   \n",
       "\n",
       "     trips_in_first_30_days  ultimate_black_user  weekday_pct  \n",
       "134                       0                False        100.0  \n",
       "176                       0                False        100.0  \n",
       "320                       1                False        100.0  \n",
       "349                       1                 True         33.3  \n",
       "389                       5                False         66.7  "
      ]
     },
     "execution_count": 19,
     "metadata": {},
     "output_type": "execute_result"
    }
   ],
   "source": [
    "# Create dataframe of null phone values\n",
    "df_no_phone = dfu[(dfu['phone']!='iPhone') & (dfu['phone']!='Android')]\n",
    "\n",
    "# Show first five rows\n",
    "df_no_phone.head()"
   ]
  },
  {
   "cell_type": "markdown",
   "metadata": {},
   "source": [
    "The none listing is unclear. It could mean that no data was collected, but it could also mean that they don't have an iPhone or Android."
   ]
  },
  {
   "cell_type": "code",
   "execution_count": 20,
   "metadata": {},
   "outputs": [],
   "source": [
    "# Transform null phone column into \"Unknown\" string\n",
    "dfu['phone'] = dfu.phone.apply(lambda x: x if not pd.isnull(x) else 'Unknown')"
   ]
  },
  {
   "cell_type": "code",
   "execution_count": 21,
   "metadata": {},
   "outputs": [],
   "source": [
    "# Calculate day of year to find out who took trips in last 30 days\n",
    "dfu['dayofyear'] = dfu['last_trip_date'].dt.dayofyear"
   ]
  },
  {
   "cell_type": "code",
   "execution_count": 22,
   "metadata": {},
   "outputs": [],
   "source": [
    "# Write function to determine if user was retained\n",
    "def user_retained(row):\n",
    "    if row['dayofyear'] >= 152:\n",
    "        return 1\n",
    "    else:\n",
    "        return 0\n",
    "\n",
    "# Apply function to new column user_retained    \n",
    "dfu['user_retained'] = dfu.apply(user_retained, axis=1)"
   ]
  },
  {
   "cell_type": "code",
   "execution_count": 23,
   "metadata": {},
   "outputs": [
    {
     "data": {
      "text/html": [
       "<div>\n",
       "<style scoped>\n",
       "    .dataframe tbody tr th:only-of-type {\n",
       "        vertical-align: middle;\n",
       "    }\n",
       "\n",
       "    .dataframe tbody tr th {\n",
       "        vertical-align: top;\n",
       "    }\n",
       "\n",
       "    .dataframe thead th {\n",
       "        text-align: right;\n",
       "    }\n",
       "</style>\n",
       "<table border=\"1\" class=\"dataframe\">\n",
       "  <thead>\n",
       "    <tr style=\"text-align: right;\">\n",
       "      <th></th>\n",
       "      <th>avg_dist</th>\n",
       "      <th>avg_rating_by_driver</th>\n",
       "      <th>avg_rating_of_driver</th>\n",
       "      <th>avg_surge</th>\n",
       "      <th>city</th>\n",
       "      <th>last_trip_date</th>\n",
       "      <th>phone</th>\n",
       "      <th>signup_date</th>\n",
       "      <th>surge_pct</th>\n",
       "      <th>trips_in_first_30_days</th>\n",
       "      <th>ultimate_black_user</th>\n",
       "      <th>weekday_pct</th>\n",
       "      <th>dayofyear</th>\n",
       "      <th>user_retained</th>\n",
       "    </tr>\n",
       "  </thead>\n",
       "  <tbody>\n",
       "    <tr>\n",
       "      <th>0</th>\n",
       "      <td>3.67</td>\n",
       "      <td>5.0</td>\n",
       "      <td>4.7</td>\n",
       "      <td>1.10</td>\n",
       "      <td>King's Landing</td>\n",
       "      <td>2014-06-17</td>\n",
       "      <td>iPhone</td>\n",
       "      <td>2014-01-25</td>\n",
       "      <td>15.4</td>\n",
       "      <td>4</td>\n",
       "      <td>True</td>\n",
       "      <td>46.2</td>\n",
       "      <td>168</td>\n",
       "      <td>1</td>\n",
       "    </tr>\n",
       "    <tr>\n",
       "      <th>1</th>\n",
       "      <td>8.26</td>\n",
       "      <td>5.0</td>\n",
       "      <td>5.0</td>\n",
       "      <td>1.00</td>\n",
       "      <td>Astapor</td>\n",
       "      <td>2014-05-05</td>\n",
       "      <td>Android</td>\n",
       "      <td>2014-01-29</td>\n",
       "      <td>0.0</td>\n",
       "      <td>0</td>\n",
       "      <td>False</td>\n",
       "      <td>50.0</td>\n",
       "      <td>125</td>\n",
       "      <td>0</td>\n",
       "    </tr>\n",
       "    <tr>\n",
       "      <th>2</th>\n",
       "      <td>0.77</td>\n",
       "      <td>5.0</td>\n",
       "      <td>4.3</td>\n",
       "      <td>1.00</td>\n",
       "      <td>Astapor</td>\n",
       "      <td>2014-01-07</td>\n",
       "      <td>iPhone</td>\n",
       "      <td>2014-01-06</td>\n",
       "      <td>0.0</td>\n",
       "      <td>3</td>\n",
       "      <td>False</td>\n",
       "      <td>100.0</td>\n",
       "      <td>7</td>\n",
       "      <td>0</td>\n",
       "    </tr>\n",
       "    <tr>\n",
       "      <th>3</th>\n",
       "      <td>2.36</td>\n",
       "      <td>4.9</td>\n",
       "      <td>4.6</td>\n",
       "      <td>1.14</td>\n",
       "      <td>King's Landing</td>\n",
       "      <td>2014-06-29</td>\n",
       "      <td>iPhone</td>\n",
       "      <td>2014-01-10</td>\n",
       "      <td>20.0</td>\n",
       "      <td>9</td>\n",
       "      <td>True</td>\n",
       "      <td>80.0</td>\n",
       "      <td>180</td>\n",
       "      <td>1</td>\n",
       "    </tr>\n",
       "    <tr>\n",
       "      <th>4</th>\n",
       "      <td>3.13</td>\n",
       "      <td>4.9</td>\n",
       "      <td>4.4</td>\n",
       "      <td>1.19</td>\n",
       "      <td>Winterfell</td>\n",
       "      <td>2014-03-15</td>\n",
       "      <td>Android</td>\n",
       "      <td>2014-01-27</td>\n",
       "      <td>11.8</td>\n",
       "      <td>14</td>\n",
       "      <td>False</td>\n",
       "      <td>82.4</td>\n",
       "      <td>74</td>\n",
       "      <td>0</td>\n",
       "    </tr>\n",
       "  </tbody>\n",
       "</table>\n",
       "</div>"
      ],
      "text/plain": [
       "   avg_dist  avg_rating_by_driver  avg_rating_of_driver  avg_surge  \\\n",
       "0      3.67                   5.0                   4.7       1.10   \n",
       "1      8.26                   5.0                   5.0       1.00   \n",
       "2      0.77                   5.0                   4.3       1.00   \n",
       "3      2.36                   4.9                   4.6       1.14   \n",
       "4      3.13                   4.9                   4.4       1.19   \n",
       "\n",
       "             city last_trip_date    phone signup_date  surge_pct  \\\n",
       "0  King's Landing     2014-06-17   iPhone  2014-01-25       15.4   \n",
       "1         Astapor     2014-05-05  Android  2014-01-29        0.0   \n",
       "2         Astapor     2014-01-07   iPhone  2014-01-06        0.0   \n",
       "3  King's Landing     2014-06-29   iPhone  2014-01-10       20.0   \n",
       "4      Winterfell     2014-03-15  Android  2014-01-27       11.8   \n",
       "\n",
       "   trips_in_first_30_days  ultimate_black_user  weekday_pct  dayofyear  \\\n",
       "0                       4                 True         46.2        168   \n",
       "1                       0                False         50.0        125   \n",
       "2                       3                False        100.0          7   \n",
       "3                       9                 True         80.0        180   \n",
       "4                      14                False         82.4         74   \n",
       "\n",
       "   user_retained  \n",
       "0              1  \n",
       "1              0  \n",
       "2              0  \n",
       "3              1  \n",
       "4              0  "
      ]
     },
     "execution_count": 23,
     "metadata": {},
     "output_type": "execute_result"
    }
   ],
   "source": [
    "# Show first five rows\n",
    "dfu.head()"
   ]
  },
  {
   "cell_type": "code",
   "execution_count": 24,
   "metadata": {},
   "outputs": [],
   "source": [
    "# Convert string columns into numeric columns\n",
    "import sklearn\n",
    "from sklearn import preprocessing\n",
    "le = preprocessing.LabelEncoder()\n",
    "for x in dfu.columns:\n",
    "    if dfu[x].dtypes=='object':\n",
    "       dfu[x]=le.fit_transform(dfu[x])"
   ]
  },
  {
   "cell_type": "code",
   "execution_count": 25,
   "metadata": {},
   "outputs": [
    {
     "data": {
      "text/plain": [
       "user_retained             1.000000\n",
       "dayofyear                 0.780837\n",
       "phone                     0.226405\n",
       "trips_in_first_30_days    0.210463\n",
       "ultimate_black_user       0.205002\n",
       "city                      0.066755\n",
       "surge_pct                 0.011797\n",
       "weekday_pct               0.009693\n",
       "avg_surge                -0.003333\n",
       "avg_rating_of_driver     -0.010829\n",
       "avg_rating_by_driver     -0.026748\n",
       "avg_dist                 -0.092780\n",
       "Name: user_retained, dtype: float64"
      ]
     },
     "execution_count": 25,
     "metadata": {},
     "output_type": "execute_result"
    }
   ],
   "source": [
    "# Show correlation matrix between columns and user_retained\n",
    "corr_matrix = dfu.corr()\n",
    "corr_matrix['user_retained'].sort_values(ascending=False)"
   ]
  },
  {
   "cell_type": "markdown",
   "metadata": {},
   "source": [
    "There is a clear positive correlation with users being retained and 3 distinct categories: phones, trips_in_first_30_days and ultimate_black_users. \n",
    "\n",
    "There is also a negative correlation between avg_dist and user_retained.\n",
    "\n",
    "(Note that user_retained depends on dayofyear so the dayofyear correlation should be discarded.)"
   ]
  },
  {
   "cell_type": "markdown",
   "metadata": {},
   "source": [
    "To investigate the phone correlation, let's create two histograms, one of users_retained, and one of users not retained."
   ]
  },
  {
   "cell_type": "code",
   "execution_count": 26,
   "metadata": {},
   "outputs": [],
   "source": [
    "# Split data frame into user_retained and user_not_retained dataframes\n",
    "dfu_user_retained = dfu[dfu['user_retained']==1]\n",
    "dfu_user_not_retained = dfu[dfu['user_retained']==0]"
   ]
  },
  {
   "cell_type": "code",
   "execution_count": 27,
   "metadata": {},
   "outputs": [
    {
     "data": {
      "image/png": "[encoded data removed]",
      "text/plain": [
       "<Figure size 432x288 with 1 Axes>"
      ]
     },
     "metadata": {},
     "output_type": "display_data"
    }
   ],
   "source": [
    "# Setup Seaborn\n",
    "import seaborn as sns\n",
    "sns.set_style(\"darkgrid\")\n",
    "\n",
    "# Create histogram showing number of users\n",
    "plt.hist(dfu.phone, ec='white')\n",
    "\n",
    "# Create labels\n",
    "plt.xlabel('$ Type of phones: Android, None, iPhone')\n",
    "plt.ylabel('Number of users')\n",
    "plt.title('All Phone Users', fontsize=15)\n",
    "\n",
    "# Show graph\n",
    "plt.show()"
   ]
  },
  {
   "cell_type": "code",
   "execution_count": 28,
   "metadata": {},
   "outputs": [
    {
     "data": {
      "image/png": "[encoded data removed]",
      "text/plain": [
       "<Figure size 432x288 with 1 Axes>"
      ]
     },
     "metadata": {},
     "output_type": "display_data"
    }
   ],
   "source": [
    "# Create histogram showing number of users\n",
    "plt.hist(dfu_user_retained.phone, ec='white')\n",
    "\n",
    "# Create labels\n",
    "plt.xlabel('Type of phones: Android, Unknown, iPhone')\n",
    "plt.ylabel('Number of users')\n",
    "plt.title('Phone Users Retained', fontsize=15)\n",
    "plt.ylim(0,20000)\n",
    "\n",
    "# Show graph\n",
    "plt.show()"
   ]
  },
  {
   "cell_type": "code",
   "execution_count": 29,
   "metadata": {},
   "outputs": [
    {
     "data": {
      "image/png": "[encoded data removed]",
      "text/plain": [
       "<Figure size 432x288 with 1 Axes>"
      ]
     },
     "metadata": {},
     "output_type": "display_data"
    }
   ],
   "source": [
    "# Create histogram showing number of users\n",
    "plt.hist(dfu_user_not_retained.phone, ec='white')\n",
    "\n",
    "# Create labels\n",
    "plt.xlabel('Type of phones: Android, Unknown, iPhone')\n",
    "plt.ylabel('Number of users')\n",
    "plt.title('Phone Users Not Retained', fontsize=15)\n",
    "plt.ylim(0,20000)\n",
    "\n",
    "\n",
    "# Show graph\n",
    "plt.show()"
   ]
  },
  {
   "cell_type": "markdown",
   "metadata": {},
   "source": [
    "There is a clear negative correlation between Android users and users retained. The same holds for the unknown column. "
   ]
  },
  {
   "cell_type": "markdown",
   "metadata": {},
   "source": [
    "### Machine Learning"
   ]
  },
  {
   "cell_type": "markdown",
   "metadata": {},
   "source": [
    "With the dataset explored, we will now run Machine Learning tests to determine the best predictors."
   ]
  },
  {
   "cell_type": "code",
   "execution_count": 30,
   "metadata": {},
   "outputs": [
    {
     "name": "stderr",
     "output_type": "stream",
     "text": [
      "/anaconda3/lib/python3.6/site-packages/sklearn/ensemble/weight_boosting.py:29: DeprecationWarning: numpy.core.umath_tests is an internal NumPy module and should not be imported. It will be removed in a future NumPy release.\n",
      "  from numpy.core.umath_tests import inner1d\n"
     ]
    }
   ],
   "source": [
    "from sklearn.model_selection import train_test_split\n",
    "from sklearn.linear_model import LogisticRegression\n",
    "from sklearn.naive_bayes import MultinomialNB\n",
    "from sklearn.naive_bayes import GaussianNB\n",
    "from sklearn.metrics import roc_auc_score\n",
    "from sklearn.model_selection import cross_val_score\n",
    "from sklearn.model_selection import GridSearchCV\n",
    "from scipy.stats import randint\n",
    "from sklearn.tree import DecisionTreeClassifier\n",
    "from sklearn.ensemble import RandomForestClassifier\n",
    "from sklearn.datasets import make_classification\n",
    "from sklearn.model_selection import RandomizedSearchCV\n",
    "from sklearn.metrics import classification_report\n",
    "from sklearn.metrics import confusion_matrix"
   ]
  },
  {
   "cell_type": "code",
   "execution_count": 31,
   "metadata": {},
   "outputs": [
    {
     "data": {
      "text/html": [
       "<div>\n",
       "<style scoped>\n",
       "    .dataframe tbody tr th:only-of-type {\n",
       "        vertical-align: middle;\n",
       "    }\n",
       "\n",
       "    .dataframe tbody tr th {\n",
       "        vertical-align: top;\n",
       "    }\n",
       "\n",
       "    .dataframe thead th {\n",
       "        text-align: right;\n",
       "    }\n",
       "</style>\n",
       "<table border=\"1\" class=\"dataframe\">\n",
       "  <thead>\n",
       "    <tr style=\"text-align: right;\">\n",
       "      <th></th>\n",
       "      <th>avg_dist</th>\n",
       "      <th>avg_rating_by_driver</th>\n",
       "      <th>avg_rating_of_driver</th>\n",
       "      <th>avg_surge</th>\n",
       "      <th>city</th>\n",
       "      <th>last_trip_date</th>\n",
       "      <th>phone</th>\n",
       "      <th>signup_date</th>\n",
       "      <th>surge_pct</th>\n",
       "      <th>trips_in_first_30_days</th>\n",
       "      <th>ultimate_black_user</th>\n",
       "      <th>weekday_pct</th>\n",
       "      <th>dayofyear</th>\n",
       "      <th>user_retained</th>\n",
       "    </tr>\n",
       "  </thead>\n",
       "  <tbody>\n",
       "    <tr>\n",
       "      <th>0</th>\n",
       "      <td>3.67</td>\n",
       "      <td>5.0</td>\n",
       "      <td>4.7</td>\n",
       "      <td>1.10</td>\n",
       "      <td>1</td>\n",
       "      <td>2014-06-17</td>\n",
       "      <td>2</td>\n",
       "      <td>2014-01-25</td>\n",
       "      <td>15.4</td>\n",
       "      <td>4</td>\n",
       "      <td>True</td>\n",
       "      <td>46.2</td>\n",
       "      <td>168</td>\n",
       "      <td>1</td>\n",
       "    </tr>\n",
       "    <tr>\n",
       "      <th>1</th>\n",
       "      <td>8.26</td>\n",
       "      <td>5.0</td>\n",
       "      <td>5.0</td>\n",
       "      <td>1.00</td>\n",
       "      <td>0</td>\n",
       "      <td>2014-05-05</td>\n",
       "      <td>0</td>\n",
       "      <td>2014-01-29</td>\n",
       "      <td>0.0</td>\n",
       "      <td>0</td>\n",
       "      <td>False</td>\n",
       "      <td>50.0</td>\n",
       "      <td>125</td>\n",
       "      <td>0</td>\n",
       "    </tr>\n",
       "    <tr>\n",
       "      <th>2</th>\n",
       "      <td>0.77</td>\n",
       "      <td>5.0</td>\n",
       "      <td>4.3</td>\n",
       "      <td>1.00</td>\n",
       "      <td>0</td>\n",
       "      <td>2014-01-07</td>\n",
       "      <td>2</td>\n",
       "      <td>2014-01-06</td>\n",
       "      <td>0.0</td>\n",
       "      <td>3</td>\n",
       "      <td>False</td>\n",
       "      <td>100.0</td>\n",
       "      <td>7</td>\n",
       "      <td>0</td>\n",
       "    </tr>\n",
       "    <tr>\n",
       "      <th>3</th>\n",
       "      <td>2.36</td>\n",
       "      <td>4.9</td>\n",
       "      <td>4.6</td>\n",
       "      <td>1.14</td>\n",
       "      <td>1</td>\n",
       "      <td>2014-06-29</td>\n",
       "      <td>2</td>\n",
       "      <td>2014-01-10</td>\n",
       "      <td>20.0</td>\n",
       "      <td>9</td>\n",
       "      <td>True</td>\n",
       "      <td>80.0</td>\n",
       "      <td>180</td>\n",
       "      <td>1</td>\n",
       "    </tr>\n",
       "    <tr>\n",
       "      <th>4</th>\n",
       "      <td>3.13</td>\n",
       "      <td>4.9</td>\n",
       "      <td>4.4</td>\n",
       "      <td>1.19</td>\n",
       "      <td>2</td>\n",
       "      <td>2014-03-15</td>\n",
       "      <td>0</td>\n",
       "      <td>2014-01-27</td>\n",
       "      <td>11.8</td>\n",
       "      <td>14</td>\n",
       "      <td>False</td>\n",
       "      <td>82.4</td>\n",
       "      <td>74</td>\n",
       "      <td>0</td>\n",
       "    </tr>\n",
       "  </tbody>\n",
       "</table>\n",
       "</div>"
      ],
      "text/plain": [
       "   avg_dist  avg_rating_by_driver  avg_rating_of_driver  avg_surge  city  \\\n",
       "0      3.67                   5.0                   4.7       1.10     1   \n",
       "1      8.26                   5.0                   5.0       1.00     0   \n",
       "2      0.77                   5.0                   4.3       1.00     0   \n",
       "3      2.36                   4.9                   4.6       1.14     1   \n",
       "4      3.13                   4.9                   4.4       1.19     2   \n",
       "\n",
       "  last_trip_date  phone signup_date  surge_pct  trips_in_first_30_days  \\\n",
       "0     2014-06-17      2  2014-01-25       15.4                       4   \n",
       "1     2014-05-05      0  2014-01-29        0.0                       0   \n",
       "2     2014-01-07      2  2014-01-06        0.0                       3   \n",
       "3     2014-06-29      2  2014-01-10       20.0                       9   \n",
       "4     2014-03-15      0  2014-01-27       11.8                      14   \n",
       "\n",
       "   ultimate_black_user  weekday_pct  dayofyear  user_retained  \n",
       "0                 True         46.2        168              1  \n",
       "1                False         50.0        125              0  \n",
       "2                False        100.0          7              0  \n",
       "3                 True         80.0        180              1  \n",
       "4                False         82.4         74              0  "
      ]
     },
     "execution_count": 31,
     "metadata": {},
     "output_type": "execute_result"
    }
   ],
   "source": [
    "dfu.head()"
   ]
  },
  {
   "cell_type": "code",
   "execution_count": 32,
   "metadata": {},
   "outputs": [],
   "source": [
    "# Choose relevant predictor columns\n",
    "X = dfu[['avg_dist', 'avg_rating_by_driver', 'avg_rating_of_driver', 'avg_surge', 'city', 'phone', 'trips_in_first_30_days', 'ultimate_black_user', 'weekday_pct']]"
   ]
  },
  {
   "cell_type": "code",
   "execution_count": 33,
   "metadata": {},
   "outputs": [
    {
     "data": {
      "text/plain": [
       "9"
      ]
     },
     "execution_count": 33,
     "metadata": {},
     "output_type": "execute_result"
    }
   ],
   "source": [
    "X.shape[1]"
   ]
  },
  {
   "cell_type": "code",
   "execution_count": 34,
   "metadata": {},
   "outputs": [],
   "source": [
    "# Store list of X.columns to determine most important factors later\n",
    "col_list = X.columns"
   ]
  },
  {
   "cell_type": "code",
   "execution_count": 35,
   "metadata": {},
   "outputs": [],
   "source": [
    "# Scale columns to values between 0 and 1\n",
    "from sklearn.preprocessing import MinMaxScaler\n",
    "scaler = MinMaxScaler()\n",
    "X = scaler.fit_transform(X)"
   ]
  },
  {
   "cell_type": "code",
   "execution_count": 36,
   "metadata": {},
   "outputs": [],
   "source": [
    "# Choose target column\n",
    "y = dfu['user_retained']"
   ]
  },
  {
   "cell_type": "code",
   "execution_count": 37,
   "metadata": {},
   "outputs": [],
   "source": [
    "# Create function to return the results of machine learning tests\n",
    "def ml_classification_tests(X, y, num_cols=X.shape[1]):\n",
    "    \n",
    "    # Split into training and test set\n",
    "    X_train, X_test, y_train, y_test = train_test_split(X, y)\n",
    "    \n",
    "    #------------------------------------------------------------------------\n",
    "    \n",
    "    # NAIVE BAYES\n",
    "    print('Naive Bayes')\n",
    "    \n",
    "    #the grid of parameters to search over\n",
    "    alphas = [0.001, 0.01, .1, 1, 5]\n",
    "    \n",
    "    param_grid = {'alpha': alphas}\n",
    "    \n",
    "    # Create a multinomial classifier\n",
    "    mnb = MultinomialNB()\n",
    "    \n",
    "    mnb_cv = GridSearchCV(mnb, param_grid, cv=5)\n",
    "    \n",
    "    # Fit the classifier to the data\n",
    "    mnb_cv.fit(X_train, y_train)\n",
    "    \n",
    "    # Print the tuned parameters and score\n",
    "    print(\"Best Naive Bayes alpha: {}\".format(mnb_cv.best_params_)) \n",
    "    print(\"Best Naive Bayes score: {}\".format(mnb_cv.best_score_))\n",
    "    \n",
    "    # Predict the labels of the test set: y_pred\n",
    "    y_pred = mnb_cv.predict(X_test)\n",
    "\n",
    "    # Compute and print the confusion matrix and classification report\n",
    "    print('Confusion Matrix:', confusion_matrix(y_test, y_pred))\n",
    "    print('Classification Report:', classification_report(y_test, y_pred))\n",
    "    \n",
    "    #------------------------------------------------------------------------\n",
    "\n",
    "    \n",
    "    # LOGISTIC REGRESSION\n",
    "    print('\\nLogistic Regression')\n",
    "    \n",
    "    # Setup the hyperparameter grid\n",
    "    c_space = np.logspace(-5, 8, 10)\n",
    "    param_grid = {'C': c_space}\n",
    "\n",
    "    # Instantiate a logistic regression classifier: logreg\n",
    "    logreg = LogisticRegression()\n",
    "\n",
    "    # Instantiate the GridSearchCV object: logreg_cv\n",
    "    logreg_cv = GridSearchCV(logreg, param_grid, cv=5)\n",
    "\n",
    "    # Fit it to the data\n",
    "    logreg_cv.fit(X_train,y_train)\n",
    "\n",
    "    # Print the tuned parameters and score\n",
    "    print(\"Tuned Logistic Regression Parameters: {}\".format(logreg_cv.best_params_)) \n",
    "    print(\"Best Logistic Regression score: {}\".format(logreg_cv.best_score_))\n",
    "    \n",
    "        # Predict the labels of the test set: y_pred\n",
    "    y_pred = logreg_cv.predict(X_test)\n",
    "\n",
    "    # Compute and print the confusion matrix and classification report\n",
    "    print('Confusion Matrix:', confusion_matrix(y_test, y_pred))\n",
    "    print('Classification Report:', classification_report(y_test, y_pred))\n",
    "    \n",
    "    #------------------------------------------------------------------------\n",
    "    \n",
    "    # DECISION TREE TUNED\n",
    "    print('\\nDecision Tree')\n",
    "    \n",
    "    # Instantiate a Decision Tree classifier\n",
    "    tree = DecisionTreeClassifier()\n",
    "        \n",
    "    if num_cols == 1:\n",
    "        # Setup the parameters and distributions to sample from: param_dist\n",
    "        param_dist = {\"max_depth\": [3, None],\n",
    "              \"criterion\": [\"gini\", \"entropy\"]}\n",
    "\n",
    "        # Instantiate RandomizedSearchCV\n",
    "        tree_cv = GridSearchCV(tree, param_dist, cv=5)\n",
    "    \n",
    "    else:\n",
    "        # Setup the parameters and distributions to sample from: param_dist\n",
    "        param_dist = {\"max_depth\": [3, None],\n",
    "                  \"max_features\": randint(1, num_cols),\n",
    "                  \"min_samples_leaf\": randint(1, num_cols),\n",
    "                  \"criterion\": [\"gini\", \"entropy\"]}\n",
    "\n",
    "        # Instantiate RandomizedSearchCV\n",
    "        tree_cv = RandomizedSearchCV(tree, param_dist, n_iter = 20, cv=5)\n",
    "\n",
    "    # Fit it to the data\n",
    "    tree_cv.fit(X,y)\n",
    "\n",
    "    # Print the tuned parameters and score\n",
    "    print(\"Tuned Decision Tree Parameters: {}\".format(tree_cv.best_params_))\n",
    "    print(\"Best Tuned Decision Tree score: {}\".format(tree_cv.best_score_))\n",
    "    \n",
    "    # Predict the labels of the test set: y_pred\n",
    "    y_pred = tree_cv.predict(X_test)\n",
    "\n",
    "    # Compute and print the confusion matrix and classification report\n",
    "    print('Confusion Matrix:', confusion_matrix(y_test, y_pred))\n",
    "    print('Classification Report:', classification_report(y_test, y_pred))\n",
    "    \n",
    "    #------------------------------------------------------------------------\n",
    "    \n",
    "    # RANDOM FORESTS\n",
    "    print('\\nRandom Forests')\n",
    "    \n",
    "    # Number of features to consider at every split\n",
    "    max_features = ['auto', 'sqrt']\n",
    "    # Maximum number of levels in tree\n",
    "    max_depth = [int(x) for x in np.linspace(10, 100, num = 10)]\n",
    "    max_depth.append(None)\n",
    "    # Minimum number of samples required to split a node\n",
    "    min_samples_split = [2, 5, 10]\n",
    "    # Minimum number of samples required at each leaf node\n",
    "    min_samples_leaf = [1, 2, 4]\n",
    "    # Method of selecting samples for training each tree\n",
    "    bootstrap = [True, False]\n",
    "    # Create the random grid\n",
    "    random_grid = {'max_features': max_features,\n",
    "               'max_depth': max_depth,\n",
    "               'min_samples_split': min_samples_split,\n",
    "               'min_samples_leaf': min_samples_leaf,\n",
    "               'bootstrap': bootstrap}    \n",
    "    \n",
    "    # Instantiate a Random Forest Classifier\n",
    "    rfc = RandomForestClassifier(n_estimators=200)\n",
    "    \n",
    "    # Instantiate RandomizedSearchCV\n",
    "    rf_cv = RandomizedSearchCV(estimator = rfc, param_distributions = random_grid, cv = 5, n_jobs = -1)\n",
    "    \n",
    "    # Fit the random search model\n",
    "    rf_cv.fit(X_train, y_train)\n",
    "    \n",
    "    # Print the tuned parameters and score\n",
    "    print(\"Tuned Random Forest Parameters: {}\".format(rf_cv.best_params_))\n",
    "    print(\"Best Random Forest score: {}\".format(rf_cv.best_score_))\n",
    "    \n",
    "    # Predict the labels of the test set: y_pred\n",
    "    y_pred = rf_cv.predict(X_test)\n",
    "\n",
    "    # Compute and print the confusion matrix and classification report\n",
    "    print('Confusion Matrix:', confusion_matrix(y_test, y_pred))\n",
    "    print('Classification Report:', classification_report(y_test, y_pred))\n",
    "    \n",
    "    #------------------------------------------------------------------------"
   ]
  },
  {
   "cell_type": "code",
   "execution_count": 38,
   "metadata": {},
   "outputs": [
    {
     "name": "stdout",
     "output_type": "stream",
     "text": [
      "Naive Bayes\n",
      "Best Naive Bayes alpha: {'alpha': 0.001}\n",
      "Best Naive Bayes score: 0.6241333333333333\n",
      "Confusion Matrix: [[7800    1]\n",
      " [4697    2]]\n",
      "Classification Report:              precision    recall  f1-score   support\n",
      "\n",
      "          0       0.62      1.00      0.77      7801\n",
      "          1       0.67      0.00      0.00      4699\n",
      "\n",
      "avg / total       0.64      0.62      0.48     12500\n",
      "\n",
      "\n",
      "Logistic Regression\n",
      "Tuned Logistic Regression Parameters: {'C': 166.81005372000593}\n",
      "Best Logistic Regression score: 0.6973066666666666\n",
      "Confusion Matrix: [[6688 1113]\n",
      " [2801 1898]]\n",
      "Classification Report:              precision    recall  f1-score   support\n",
      "\n",
      "          0       0.70      0.86      0.77      7801\n",
      "          1       0.63      0.40      0.49      4699\n",
      "\n",
      "avg / total       0.68      0.69      0.67     12500\n",
      "\n",
      "\n",
      "Decision Tree\n",
      "Tuned Decision Tree Parameters: {'criterion': 'gini', 'max_depth': None, 'max_features': 1, 'min_samples_leaf': 7}\n",
      "Best Tuned Decision Tree score: 0.74468\n",
      "Confusion Matrix: [[6892  909]\n",
      " [1577 3122]]\n",
      "Classification Report:              precision    recall  f1-score   support\n",
      "\n",
      "          0       0.81      0.88      0.85      7801\n",
      "          1       0.77      0.66      0.72      4699\n",
      "\n",
      "avg / total       0.80      0.80      0.80     12500\n",
      "\n",
      "\n",
      "Random Forests\n",
      "Tuned Random Forest Parameters: {'min_samples_split': 10, 'min_samples_leaf': 4, 'max_features': 'sqrt', 'max_depth': 20, 'bootstrap': True}\n",
      "Best Random Forest score: 0.7822133333333333\n",
      "Confusion Matrix: [[6656 1145]\n",
      " [1702 2997]]\n",
      "Classification Report:              precision    recall  f1-score   support\n",
      "\n",
      "          0       0.80      0.85      0.82      7801\n",
      "          1       0.72      0.64      0.68      4699\n",
      "\n",
      "avg / total       0.77      0.77      0.77     12500\n",
      "\n"
     ]
    }
   ],
   "source": [
    "ml_classification_tests(X,y)"
   ]
  },
  {
   "cell_type": "markdown",
   "metadata": {},
   "source": [
    "The best results are obtained by a Decision Tree with the specified criteria."
   ]
  },
  {
   "cell_type": "markdown",
   "metadata": {},
   "source": [
    "### Feature Importance"
   ]
  },
  {
   "cell_type": "markdown",
   "metadata": {},
   "source": [
    "Feature importance of machine learning models is one way to determine which factors are the most important in predicting rider retention. We will implement feature_importance with a baseline xgboost model."
   ]
  },
  {
   "cell_type": "code",
   "execution_count": 39,
   "metadata": {},
   "outputs": [
    {
     "name": "stdout",
     "output_type": "stream",
     "text": [
      "accuracy: 0.789600\n",
      "Index(['avg_dist', 'avg_rating_by_driver', 'avg_rating_of_driver', 'avg_surge',\n",
      "       'city', 'phone', 'trips_in_first_30_days', 'ultimate_black_user',\n",
      "       'weekday_pct'],\n",
      "      dtype='object')\n",
      "[0.17082112 0.08284458 0.07624634 0.10190616 0.1202346  0.04252199\n",
      " 0.1686217  0.04105572 0.19574781]\n"
     ]
    },
    {
     "name": "stderr",
     "output_type": "stream",
     "text": [
      "/anaconda3/lib/python3.6/site-packages/sklearn/preprocessing/label.py:151: DeprecationWarning: The truth value of an empty array is ambiguous. Returning False, but in future this will result in an error. Use `array.size > 0` to check that an array is not empty.\n",
      "  if diff:\n"
     ]
    }
   ],
   "source": [
    "# Import xgboost\n",
    "import xgboost as xgb\n",
    "\n",
    "# Create the training and test sets\n",
    "X_train, X_test, y_train, y_test= train_test_split(X, y, test_size=0.2)\n",
    "\n",
    "# Instantiate the XGBClassifier: xg_cl\n",
    "xg_cl = xgb.XGBClassifier(objective='binary:logistic', n_estimators=200)\n",
    "\n",
    "# Fit the classifier to the training set\n",
    "xg_cl.fit(X_train,y_train)\n",
    "\n",
    "# Predict the labels of the test set: preds\n",
    "preds = xg_cl.predict(X_test)\n",
    "\n",
    "# Compute the accuracy: accuracy\n",
    "accuracy = float(np.sum(preds==y_test))/y_test.shape[0]\n",
    "print(\"accuracy: %f\" % (accuracy))\n",
    "\n",
    "# Display feature_importances_\n",
    "print(col_list)\n",
    "print(xg_cl.feature_importances_)"
   ]
  },
  {
   "cell_type": "markdown",
   "metadata": {},
   "source": [
    "The booster suggests that weekday_pct, followed by trips_in_first_30_days and avg_dist are the factors most likely to determine rider retention. This is a bit of surprise when comparing the correlations, however, the model is not linear, so correlation coefficients do not carry as much weight."
   ]
  },
  {
   "cell_type": "code",
   "execution_count": 40,
   "metadata": {},
   "outputs": [
    {
     "name": "stdout",
     "output_type": "stream",
     "text": [
      "Index(['avg_dist', 'avg_rating_by_driver', 'avg_rating_of_driver', 'avg_surge',\n",
      "       'city', 'phone', 'trips_in_first_30_days', 'ultimate_black_user',\n",
      "       'weekday_pct'],\n",
      "      dtype='object')\n",
      "[2 1 9 7 4 6 5 8 3]\n",
      "[2 1 7 4 3 6 5 8 1]\n",
      "[1 3 7 2 1 4 6 5 1]\n",
      "[1 1 6 3 1 5 2 4 1]\n",
      "[1 1 4 1 1 3 2 5 1]\n",
      "[1 1 4 1 1 2 3 1 1]\n",
      "[1 1 3 1 1 1 2 1 1]\n",
      "[1 1 2 1 1 1 1 1 1]\n",
      "[1 1 1 1 1 1 1 1 1]\n"
     ]
    }
   ],
   "source": [
    "# Import RFE\n",
    "from sklearn.feature_selection import RFE\n",
    "\n",
    "# Instantiate Best Decision Tree classifier\n",
    "tree = DecisionTreeClassifier(criterion='gini', max_depth=None, max_features=1, min_samples_leaf=8)\n",
    "       \n",
    "# Fit it to the data\n",
    "tree.fit(X_train,y_train)\n",
    "\n",
    "print(col_list)\n",
    "\n",
    "# Set up the i\n",
    "for i in range(1,len(col_list)+1):\n",
    "    \n",
    "    # Use recur\n",
    "    rfe = RFE(tree, i)\n",
    "    rfe = rfe.fit(X_train, y_train)\n",
    "\n",
    "    # print summaries for the selection of attributes\n",
    "    print(rfe.ranking_)"
   ]
  },
  {
   "cell_type": "markdown",
   "metadata": {},
   "source": [
    "The Decision Tree, our current best model, gives avg_distance, avg_rating_by_driver and weekday pct. as the best options. Let's see what an ExtraTreesClassifier gives."
   ]
  },
  {
   "cell_type": "code",
   "execution_count": 41,
   "metadata": {},
   "outputs": [
    {
     "name": "stdout",
     "output_type": "stream",
     "text": [
      "0.737\n",
      "Index(['avg_dist', 'avg_rating_by_driver', 'avg_rating_of_driver', 'avg_surge',\n",
      "       'city', 'phone', 'trips_in_first_30_days', 'ultimate_black_user',\n",
      "       'weekday_pct'],\n",
      "      dtype='object')\n",
      "[0.29035602 0.09790864 0.09313985 0.08110576 0.07241409 0.04479336\n",
      " 0.09986045 0.03674483 0.18367699]\n"
     ]
    }
   ],
   "source": [
    "# Import classifier\n",
    "from sklearn.ensemble import ExtraTreesClassifier\n",
    "\n",
    "# Instantiate model\n",
    "model = ExtraTreesClassifier()\n",
    "\n",
    "# Fit model\n",
    "model.fit(X_train, y_train)\n",
    "\n",
    "# Print score\n",
    "print(model.score(X_test, y_test))\n",
    "\n",
    "# Display feature_importances_\n",
    "print(col_list)\n",
    "print(model.feature_importances_)"
   ]
  },
  {
   "cell_type": "code",
   "execution_count": null,
   "metadata": {},
   "outputs": [],
   "source": [
    "avg_distance, followed by weekday_pct"
   ]
  },
  {
   "cell_type": "markdown",
   "metadata": {},
   "source": [
    "## Conclusion"
   ]
  },
  {
   "cell_type": "markdown",
   "metadata": {},
   "source": [
    "The best predictors are "
   ]
  }
 ],
 "metadata": {
  "kernelspec": {
   "display_name": "Python 3",
   "language": "python",
   "name": "python3"
  },
  "language_info": {
   "codemirror_mode": {
    "name": "ipython",
    "version": 3
   },
   "file_extension": ".py",
   "mimetype": "text/x-python",
   "name": "python",
   "nbconvert_exporter": "python",
   "pygments_lexer": "ipython3",
   "version": "3.6.6"
  }
 },
 "nbformat": 4,
 "nbformat_minor": 2
}
